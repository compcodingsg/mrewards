{
  "nbformat": 4,
  "nbformat_minor": 0,
  "metadata": {
    "colab": {
      "provenance": [],
      "authorship_tag": "ABX9TyP6e6cb8TWTN4uwL4nGw0VN",
      "include_colab_link": true
    },
    "kernelspec": {
      "name": "python3",
      "display_name": "Python 3"
    },
    "language_info": {
      "name": "python"
    }
  },
  "cells": [
    {
      "cell_type": "markdown",
      "metadata": {
        "id": "view-in-github",
        "colab_type": "text"
      },
      "source": [
        "<a href=\"https://colab.research.google.com/github/compcodingsg/mrewards/blob/main/mrewardsO.ipynb\" target=\"_parent\"><img src=\"https://colab.research.google.com/assets/colab-badge.svg\" alt=\"Open In Colab\"/></a>"
      ]
    },
    {
      "cell_type": "code",
      "source": [
        "!apt-get update\n",
        "!apt-get install chromium chromium-driver"
      ],
      "metadata": {
        "colab": {
          "base_uri": "https://localhost:8080/"
        },
        "id": "IkCTraBep0Uf",
        "outputId": "bfc0c17d-a43c-4616-c426-7f02d6216c23"
      },
      "execution_count": 1,
      "outputs": [
        {
          "output_type": "stream",
          "name": "stdout",
          "text": [
            "\r0% [Working]\r            \rHit:1 http://archive.ubuntu.com/ubuntu jammy InRelease\n",
            "\r0% [Waiting for headers] [Connecting to security.ubuntu.com (91.189.91.83)] [Connected to cloud.r-pr\r                                                                                                    \rGet:2 http://archive.ubuntu.com/ubuntu jammy-updates InRelease [119 kB]\n",
            "\r                                                                                                    \rGet:3 https://cloud.r-project.org/bin/linux/ubuntu jammy-cran40/ InRelease [3,626 B]\n",
            "\r0% [2 InRelease 14.2 kB/119 kB 12%] [Waiting for headers] [3 InRelease 3,626 B/3,626 B 100%] [Connec\r                                                                                                    \rGet:4 http://security.ubuntu.com/ubuntu jammy-security InRelease [110 kB]\n",
            "Hit:5 https://developer.download.nvidia.com/compute/cuda/repos/ubuntu2204/x86_64  InRelease\n",
            "Get:6 http://archive.ubuntu.com/ubuntu jammy-backports InRelease [109 kB]\n",
            "Get:7 https://cloud.r-project.org/bin/linux/ubuntu jammy-cran40/ Packages [46.8 kB]\n",
            "Get:8 http://security.ubuntu.com/ubuntu jammy-security/main amd64 Packages [1,194 kB]\n",
            "Get:9 http://archive.ubuntu.com/ubuntu jammy-updates/main amd64 Packages [1,467 kB]\n",
            "Get:10 https://ppa.launchpadcontent.net/c2d4u.team/c2d4u4.0+/ubuntu jammy InRelease [18.1 kB]\n",
            "Hit:11 https://ppa.launchpadcontent.net/deadsnakes/ppa/ubuntu jammy InRelease\n",
            "Get:12 http://archive.ubuntu.com/ubuntu jammy-updates/restricted amd64 Packages [1,420 kB]\n",
            "Hit:13 https://ppa.launchpadcontent.net/graphics-drivers/ppa/ubuntu jammy InRelease\n",
            "Hit:14 https://ppa.launchpadcontent.net/ubuntugis/ppa/ubuntu jammy InRelease\n",
            "Get:15 https://ppa.launchpadcontent.net/c2d4u.team/c2d4u4.0+/ubuntu jammy/main Sources [2,241 kB]\n",
            "Get:16 https://ppa.launchpadcontent.net/c2d4u.team/c2d4u4.0+/ubuntu jammy/main amd64 Packages [1,150 kB]\n",
            "Fetched 7,878 kB in 4s (1,809 kB/s)\n",
            "Reading package lists... Done\n",
            "Reading package lists... Done\n",
            "Building dependency tree... Done\n",
            "Reading state information... Done\n",
            "Note, selecting 'chromium-chromedriver' instead of 'chromium-driver'\n",
            "Package chromium is not available, but is referred to by another package.\n",
            "This may mean that the package is missing, has been obsoleted, or\n",
            "is only available from another source\n",
            "However the following packages replace it:\n",
            "  chromium-bsu\n",
            "\n",
            "E: Package 'chromium' has no installation candidate\n"
          ]
        }
      ]
    },
    {
      "cell_type": "code",
      "source": [
        "!pip install selenium"
      ],
      "metadata": {
        "colab": {
          "base_uri": "https://localhost:8080/"
        },
        "id": "gtiVLprepxVC",
        "outputId": "44e4f9c0-90cd-42ac-93f9-c60e99c760bb"
      },
      "execution_count": 2,
      "outputs": [
        {
          "output_type": "stream",
          "name": "stdout",
          "text": [
            "Collecting selenium\n",
            "  Downloading selenium-4.15.2-py3-none-any.whl (10.2 MB)\n",
            "\u001b[2K     \u001b[90m━━━━━━━━━━━━━━━━━━━━━━━━━━━━━━━━━━━━━━━━\u001b[0m \u001b[32m10.2/10.2 MB\u001b[0m \u001b[31m47.8 MB/s\u001b[0m eta \u001b[36m0:00:00\u001b[0m\n",
            "\u001b[?25hRequirement already satisfied: urllib3[socks]<3,>=1.26 in /usr/local/lib/python3.10/dist-packages (from selenium) (2.0.7)\n",
            "Collecting trio~=0.17 (from selenium)\n",
            "  Downloading trio-0.23.1-py3-none-any.whl (448 kB)\n",
            "\u001b[2K     \u001b[90m━━━━━━━━━━━━━━━━━━━━━━━━━━━━━━━━━━━━━━━━\u001b[0m \u001b[32m448.3/448.3 kB\u001b[0m \u001b[31m22.4 MB/s\u001b[0m eta \u001b[36m0:00:00\u001b[0m\n",
            "\u001b[?25hCollecting trio-websocket~=0.9 (from selenium)\n",
            "  Downloading trio_websocket-0.11.1-py3-none-any.whl (17 kB)\n",
            "Requirement already satisfied: certifi>=2021.10.8 in /usr/local/lib/python3.10/dist-packages (from selenium) (2023.7.22)\n",
            "Requirement already satisfied: attrs>=20.1.0 in /usr/local/lib/python3.10/dist-packages (from trio~=0.17->selenium) (23.1.0)\n",
            "Requirement already satisfied: sortedcontainers in /usr/local/lib/python3.10/dist-packages (from trio~=0.17->selenium) (2.4.0)\n",
            "Requirement already satisfied: idna in /usr/local/lib/python3.10/dist-packages (from trio~=0.17->selenium) (3.4)\n",
            "Collecting outcome (from trio~=0.17->selenium)\n",
            "  Downloading outcome-1.3.0.post0-py2.py3-none-any.whl (10 kB)\n",
            "Requirement already satisfied: sniffio>=1.3.0 in /usr/local/lib/python3.10/dist-packages (from trio~=0.17->selenium) (1.3.0)\n",
            "Requirement already satisfied: exceptiongroup>=1.0.0rc9 in /usr/local/lib/python3.10/dist-packages (from trio~=0.17->selenium) (1.1.3)\n",
            "Collecting wsproto>=0.14 (from trio-websocket~=0.9->selenium)\n",
            "  Downloading wsproto-1.2.0-py3-none-any.whl (24 kB)\n",
            "Requirement already satisfied: pysocks!=1.5.7,<2.0,>=1.5.6 in /usr/local/lib/python3.10/dist-packages (from urllib3[socks]<3,>=1.26->selenium) (1.7.1)\n",
            "Collecting h11<1,>=0.9.0 (from wsproto>=0.14->trio-websocket~=0.9->selenium)\n",
            "  Downloading h11-0.14.0-py3-none-any.whl (58 kB)\n",
            "\u001b[2K     \u001b[90m━━━━━━━━━━━━━━━━━━━━━━━━━━━━━━━━━━━━━━━━\u001b[0m \u001b[32m58.3/58.3 kB\u001b[0m \u001b[31m7.4 MB/s\u001b[0m eta \u001b[36m0:00:00\u001b[0m\n",
            "\u001b[?25hInstalling collected packages: outcome, h11, wsproto, trio, trio-websocket, selenium\n",
            "Successfully installed h11-0.14.0 outcome-1.3.0.post0 selenium-4.15.2 trio-0.23.1 trio-websocket-0.11.1 wsproto-1.2.0\n"
          ]
        }
      ]
    },
    {
      "cell_type": "code",
      "source": [
        "from google.colab import userdata"
      ],
      "metadata": {
        "id": "6QzlABWy1Ve0"
      },
      "execution_count": 3,
      "outputs": []
    },
    {
      "cell_type": "code",
      "source": [
        "user_name = userdata.get(\"m_uname\")\n",
        "user_password = userdata.get(\"m_password\")"
      ],
      "metadata": {
        "id": "vUryOxg21Uz7"
      },
      "execution_count": 4,
      "outputs": []
    },
    {
      "cell_type": "code",
      "source": [
        "import time\n",
        "\n",
        "from selenium import webdriver\n",
        "from selenium.webdriver import Keys\n",
        "from selenium.webdriver.common.by import By"
      ],
      "metadata": {
        "id": "Pw9-pxCSmkDv"
      },
      "execution_count": 5,
      "outputs": []
    },
    {
      "cell_type": "code",
      "source": [
        "chrome_options = webdriver.ChromeOptions()\n",
        "chrome_options.add_argument('--headless')\n",
        "chrome_options.add_argument('--no-sandbox')\n",
        "chrome_options.headless = True\n",
        "wd = webdriver.Chrome(options=chrome_options)"
      ],
      "metadata": {
        "id": "__lXmAndmjs9"
      },
      "execution_count": 6,
      "outputs": []
    },
    {
      "cell_type": "code",
      "source": [
        "# Open the webpage\n",
        "wd.get(\"https://rewards.bing.com/\")"
      ],
      "metadata": {
        "id": "E2-tboTSn3MD"
      },
      "execution_count": 7,
      "outputs": []
    },
    {
      "cell_type": "code",
      "source": [
        "# Find the email/username input field and enter your email\n",
        "email_input = wd.find_element(\"name\", \"loginfmt\")\n",
        "email_input.send_keys(user_name)"
      ],
      "metadata": {
        "id": "-lYBNMGCoBj4"
      },
      "execution_count": 8,
      "outputs": []
    },
    {
      "cell_type": "code",
      "source": [
        "# Click the \"Next\" button\n",
        "next_button = wd.find_element(\"id\", \"idSIButton9\")\n",
        "next_button.click()"
      ],
      "metadata": {
        "id": "Rg1HnfUYqexT"
      },
      "execution_count": 9,
      "outputs": []
    },
    {
      "cell_type": "code",
      "source": [
        "# Wait for a short period to ensure the page loads\n",
        "time.sleep(5)"
      ],
      "metadata": {
        "id": "p9PHW0u4qiiV"
      },
      "execution_count": 10,
      "outputs": []
    },
    {
      "cell_type": "code",
      "source": [
        "# Find the password input field and enter your password\n",
        "password_input = wd.find_element(\"name\", \"passwd\")\n",
        "password_input.send_keys(user_password)"
      ],
      "metadata": {
        "id": "XOFl1J-MqltS"
      },
      "execution_count": 11,
      "outputs": []
    },
    {
      "cell_type": "code",
      "source": [
        "# Click the \"Sign in\" button\n",
        "sign_in_button = wd.find_element(\"id\", \"idSIButton9\")\n",
        "sign_in_button.click()"
      ],
      "metadata": {
        "id": "l9sV135Cqs2g"
      },
      "execution_count": 12,
      "outputs": []
    },
    {
      "cell_type": "code",
      "source": [
        "# Wait for the login process to complete\n",
        "time.sleep(5)"
      ],
      "metadata": {
        "id": "DGJlML_vqvil"
      },
      "execution_count": 13,
      "outputs": []
    },
    {
      "cell_type": "code",
      "source": [
        "# Remain signed out\n",
        "stay_signed_in_button = wd.find_element(\"id\", \"idBtn_Back\")\n",
        "stay_signed_in_button.click()"
      ],
      "metadata": {
        "id": "0p6Hru7uqyNm"
      },
      "execution_count": 14,
      "outputs": []
    },
    {
      "cell_type": "code",
      "source": [
        "# Wait for the login process to complete\n",
        "time.sleep(5)"
      ],
      "metadata": {
        "id": "j4pHVdyuq1N8"
      },
      "execution_count": 15,
      "outputs": []
    },
    {
      "cell_type": "code",
      "source": [
        "# Find all 'a' elements with class 'ds-card-sec'\n",
        "elements = wd.find_elements(By.CSS_SELECTOR, 'a.ds-card-sec')"
      ],
      "metadata": {
        "id": "Dxe0u_Ydq5Hk"
      },
      "execution_count": 16,
      "outputs": []
    },
    {
      "cell_type": "code",
      "source": [
        "# Loop through each element and open the link in a new tab\n",
        "for element in elements:\n",
        "    # Get the href attribute of the element\n",
        "    href = element.get_attribute(\"href\")\n",
        "\n",
        "    # Print the href (optional)\n",
        "    print(f\"Opening link in a new tab: {href}\")\n",
        "\n",
        "    # Open the link in a new tab\n",
        "    if href is not None:\n",
        "      element.send_keys(Keys.CONTROL + Keys.RETURN)"
      ],
      "metadata": {
        "colab": {
          "base_uri": "https://localhost:8080/"
        },
        "id": "h1ldHOPNq8W1",
        "outputId": "19bf068b-a750-4207-96fb-25f967e02a31"
      },
      "execution_count": 30,
      "outputs": [
        {
          "output_type": "stream",
          "name": "stdout",
          "text": [
            "Opening link in a new tab: None\n",
            "Opening link in a new tab: None\n",
            "Opening link in a new tab: None\n",
            "Opening link in a new tab: None\n",
            "Opening link in a new tab: None\n",
            "Opening link in a new tab: None\n",
            "Opening link in a new tab: https://rewards.bing.com/#\n",
            "Opening link in a new tab: https://rewards.bing.com/#\n",
            "Opening link in a new tab: https://rewards.bing.com/#\n",
            "Opening link in a new tab: https://rewards.bing.com/#\n",
            "Opening link in a new tab: https://rewards.bing.com/#\n",
            "Opening link in a new tab: https://rewards.bing.com/#\n",
            "Opening link in a new tab: https://rewards.bing.com/#\n",
            "Opening link in a new tab: https://rewards.bing.com/#\n",
            "Opening link in a new tab: https://rewards.bing.com/#\n",
            "Opening link in a new tab: https://rewards.bing.com/#\n",
            "Opening link in a new tab: https://rewards.bing.com/#\n",
            "Opening link in a new tab: https://rewards.bing.com/#\n",
            "Opening link in a new tab: https://rewards.bing.com/#\n",
            "Opening link in a new tab: https://rewards.bing.com/#\n",
            "Opening link in a new tab: https://rewards.bing.com/#\n",
            "Opening link in a new tab: https://rewards.bing.com/#\n",
            "Opening link in a new tab: https://rewards.bing.com/#\n",
            "Opening link in a new tab: https://rewards.bing.com/#\n",
            "Opening link in a new tab: https://rewards.bing.com/#\n",
            "Opening link in a new tab: https://rewards.bing.com/#\n",
            "Opening link in a new tab: https://rewards.bing.com/#\n",
            "Opening link in a new tab: https://rewards.bing.com/#\n",
            "Opening link in a new tab: https://rewards.bing.com/#\n"
          ]
        }
      ]
    },
    {
      "cell_type": "code",
      "source": [
        "# elements"
      ],
      "metadata": {
        "id": "3jRXt59ZrFob"
      },
      "execution_count": 31,
      "outputs": []
    },
    {
      "cell_type": "code",
      "source": [
        "wd.quit()"
      ],
      "metadata": {
        "id": "Ge60eA_TtpJ-"
      },
      "execution_count": 28,
      "outputs": []
    },
    {
      "cell_type": "code",
      "source": [
        "# from selenium.webdriver.support.ui import WebDriverWait\n",
        "# from selenium.webdriver.support import expected_conditions as EC\n",
        "# # Define a CSS selector for the 'a' element\n",
        "# element_selector = 'a.ds-card-sec'\n",
        "\n",
        "# # Wait for the element to be present\n",
        "# element = WebDriverWait(wd, 10).until(\n",
        "#     EC.presence_of_element_located((By.CSS_SELECTOR, element_selector))\n",
        "# )"
      ],
      "metadata": {
        "id": "8OmZFHwduD7S"
      },
      "execution_count": 23,
      "outputs": []
    },
    {
      "cell_type": "code",
      "source": [
        "element = ''"
      ],
      "metadata": {
        "id": "Bh299TlJqvpU"
      },
      "execution_count": 27,
      "outputs": []
    },
    {
      "cell_type": "code",
      "source": [
        "# # Get various details about the element\n",
        "# for element in elements:\n",
        "#   tag_name = element.tag_name\n",
        "#   text_content = element.text\n",
        "#   location = element.location\n",
        "#   size = element.size\n",
        "#   is_displayed = element.is_displayed()\n",
        "#   is_enabled = element.is_enabled()\n",
        "#   href = element.get_attribute(\"href\")\n",
        "\n",
        "#   # Print the details\n",
        "#   print(f\"Tag Name: {tag_name}\")\n",
        "#   print(f\"Text Content: {text_content}\")\n",
        "#   print(f\"Location: {location}\")\n",
        "#   print(f\"Size: {size}\")\n",
        "#   print(f\"Is Displayed: {is_displayed}\")\n",
        "#   print(f\"Is Enabled: {is_enabled}\")\n",
        "#   print(f\"HREF: {href}\")\n",
        "#   print(\"\\n\")\n",
        "\n"
      ],
      "metadata": {
        "id": "EXngoc7nqKDT"
      },
      "execution_count": 32,
      "outputs": []
    }
  ]
}